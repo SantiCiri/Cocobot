{
 "cells": [
  {
   "cell_type": "code",
   "execution_count": 1,
   "metadata": {},
   "outputs": [
    {
     "name": "stdout",
     "output_type": "stream",
     "text": [
      "ERROR AL41\n",
      "401\n",
      "ERROR TZX26\n",
      "401\n"
     ]
    },
    {
     "name": "stderr",
     "output_type": "stream",
     "text": [
      "ERROR:root:ERROR TZX26: Bad HTTP API Response. Error code: 401. Server response {\"success\":false,\"message\":\"Invalid bearer token\"}\n"
     ]
    }
   ],
   "source": [
    "import os\n",
    "import time\n",
    "from datetime import datetime as dt\n",
    "from trading_helper import TradingHelper\n",
    "log_name=\"operar_precios\"\n",
    "if os.path.exists(f\"{log_name}.log\"):os.remove(f\"{log_name}.log\")\n",
    "app = TradingHelper(log_name=log_name)\n",
    "mail = \"cirigliano.santiago@gmail.com\"\n",
    "cantidad_minima = 5\n",
    "terms = [\"24hs\",\"CI\"]\n",
    "lista = [\"TZX26\", \"TZX27\", \"TZXD6\", \"TZXD7\", \"TZXM6\", \"TZXM7\", \"TX26\", \"TX28\",\"TX31\",\n",
    "         \"AL30\",\"GD30\",\"GD35\", \"AL35\",\"AL41\",\"GD41\",\"AE38\",\"GD38\",\"MR36O\",\"LECHO\",\"LECIO\",\"MR37O\"]\n",
    "combinations = (lista, lista[::-1])  # Original y lista invertida\n",
    "#while dt.now().hour < 11: time.sleep(60)\n",
    "app.logger.info(f\"arrancando {dt.now()}\")\n",
    "while 11 <= dt.now().hour < 17:\n",
    "    try:\n",
    "        app.get_cocos_prices(mail=mail,tickers=lista,timer=55)\n",
    "    except:\n",
    "        app.get_cocos_prices(mail=mail,tickers=lista,timer=55)\n",
    "    if dt.now().hour == 17: break"
   ]
  }
 ],
 "metadata": {
  "kernelspec": {
   "display_name": ".venv",
   "language": "python",
   "name": "python3"
  },
  "language_info": {
   "codemirror_mode": {
    "name": "ipython",
    "version": 3
   },
   "file_extension": ".py",
   "mimetype": "text/x-python",
   "name": "python",
   "nbconvert_exporter": "python",
   "pygments_lexer": "ipython3",
   "version": "3.10.12"
  }
 },
 "nbformat": 4,
 "nbformat_minor": 2
}
