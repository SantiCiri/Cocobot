{
 "cells": [
  {
   "cell_type": "code",
   "execution_count": 1,
   "metadata": {},
   "outputs": [],
   "source": [
    "import os\n",
    "import time\n",
    "from datetime import datetime as dt\n",
    "from trading_helper import TradingHelper\n",
    "log_name=\"operar_precios_tzxs\"\n",
    "if os.path.exists(f\"{log_name}.log\"):os.remove(f\"{log_name}.log\")\n",
    "app = TradingHelper(log_name=log_name)\n",
    "mail = \"cirigliano.santiago@gmail.com\"\n",
    "cantidad_minima = 5\n",
    "terms = [\"24hs\"]\n",
    "maximum_vol = 100\n",
    "lista = [\"TZX26\", \"TZXM6\",\"TX26\"]\n",
    "combinations = (lista, lista[::-1])  # Original y lista invertida\n",
    "while dt.now().hour < 11:\n",
    "    time.sleep(60)\n",
    "app.logger.info(f\"arrancando {dt.now()}\")\n",
    "while 11 <= dt.now().hour < 17:\n",
    "    app.get_cocos_prices(mail=mail,tickers=lista,timer=55)\n",
    "    if dt.now().hour == 17: break"
   ]
  }
 ],
 "metadata": {
  "kernelspec": {
   "display_name": ".venv",
   "language": "python",
   "name": "python3"
  },
  "language_info": {
   "codemirror_mode": {
    "name": "ipython",
    "version": 3
   },
   "file_extension": ".py",
   "mimetype": "text/x-python",
   "name": "python",
   "nbconvert_exporter": "python",
   "pygments_lexer": "ipython3",
   "version": "3.10.12"
  }
 },
 "nbformat": 4,
 "nbformat_minor": 2
}
