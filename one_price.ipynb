{
 "cells": [
  {
   "cell_type": "code",
   "execution_count": 1,
   "metadata": {},
   "outputs": [
    {
     "name": "stdout",
     "output_type": "stream",
     "text": [
      "('BPOD7', 'CTIO', 'PAMP', 'IRSA', 'TZX25', 'T2X5', 'CRES', 'S31E5', 'TX26', 'S28F5', 'T5X4', 'S13D4', 'TZV25')\n",
      "RATIO 1.0333333333333334 con IRSA. Volumen 84 nominales. venta CI a $1550 y compra 24hs a $1500\n",
      "Orden de venta IRSA {'Success': True, 'Orden': '4ae0d1d7-f82d-478e-bd9d-12988d76f5f0'}\n",
      "EXECUTED\n",
      "Orden de compra IRSA {'Success': True, 'Orden': '01f6e5ba-d44b-429d-ad58-e227e52f1bd1'}\n",
      "Order status de Compra EXECUTED\n",
      "Negocio ATR\n"
     ]
    },
    {
     "ename": "ApiException",
     "evalue": "Bad HTTP API Response. Error code: 400. Server response {\"error\":\"invalid_grant\",\"error_description\":\"Invalid Refresh Token: Session Expired\"}",
     "output_type": "error",
     "traceback": [
      "\u001b[0;31m---------------------------------------------------------------------------\u001b[0m",
      "\u001b[0;31mApiException\u001b[0m                              Traceback (most recent call last)",
      "Cell \u001b[0;32mIn[1], line 16\u001b[0m\n\u001b[1;32m     15\u001b[0m \u001b[38;5;28;01mfor\u001b[39;00m ticker \u001b[38;5;129;01min\u001b[39;00m tickers_in_portfolio: \n\u001b[0;32m---> 16\u001b[0m     \u001b[38;5;28;01mtry\u001b[39;00m:stocks_available\u001b[38;5;241m=\u001b[39mapp\u001b[38;5;241m.\u001b[39mstocks_available(mail\u001b[38;5;241m=\u001b[39mmail,ticker\u001b[38;5;241m=\u001b[39mticker,term\u001b[38;5;241m=\u001b[39m\u001b[38;5;124m\"\u001b[39m\u001b[38;5;124mCI\u001b[39m\u001b[38;5;124m\"\u001b[39m,currency\u001b[38;5;241m=\u001b[39m\u001b[38;5;124m\"\u001b[39m\u001b[38;5;124mpesos\u001b[39m\u001b[38;5;124m\"\u001b[39m)\n\u001b[1;32m     17\u001b[0m     \u001b[38;5;28;01mexcept\u001b[39;00m:stocks_available\u001b[38;5;241m=\u001b[39mapp\u001b[38;5;241m.\u001b[39mstocks_available(mail\u001b[38;5;241m=\u001b[39mmail,ticker\u001b[38;5;241m=\u001b[39mticker,term\u001b[38;5;241m=\u001b[39m\u001b[38;5;124m\"\u001b[39m\u001b[38;5;124mCI\u001b[39m\u001b[38;5;124m\"\u001b[39m,currency\u001b[38;5;241m=\u001b[39m\u001b[38;5;124m\"\u001b[39m\u001b[38;5;124mpesos\u001b[39m\u001b[38;5;124m\"\u001b[39m)\n",
      "File \u001b[0;32m~/Desktop/cocos/trading_helper.py:406\u001b[0m, in \u001b[0;36mTradingHelper.stocks_available\u001b[0;34m(self, mail, ticker, term, currency)\u001b[0m\n\u001b[1;32m    403\u001b[0m         long_ticker \u001b[38;5;241m=\u001b[39m app\u001b[38;5;241m.\u001b[39mlong_ticker(ticker\u001b[38;5;241m=\u001b[39mticker, \n\u001b[1;32m    404\u001b[0m                                 settlement\u001b[38;5;241m=\u001b[39msettlement, \n\u001b[1;32m    405\u001b[0m                                 currency\u001b[38;5;241m=\u001b[39mcurrency)\n\u001b[0;32m--> 406\u001b[0m stocks_available\u001b[38;5;241m=\u001b[39m\u001b[43mapp\u001b[49m\u001b[38;5;241;43m.\u001b[39;49m\u001b[43mstocks_available\u001b[49m\u001b[43m(\u001b[49m\u001b[43mlong_ticker\u001b[49m\u001b[43m)\u001b[49m\n\u001b[1;32m    407\u001b[0m \u001b[38;5;66;03m#print(stocks_available)\u001b[39;00m\n",
      "File \u001b[0;32m~/Desktop/cocos/.venv/lib/python3.10/site-packages/pycocos/main.py:331\u001b[0m, in \u001b[0;36mCocos.stocks_available\u001b[0;34m(self, long_ticker)\u001b[0m\n\u001b[1;32m    329\u001b[0m \u001b[38;5;28mself\u001b[39m\u001b[38;5;241m.\u001b[39m_check_fields(required_fields)\n\u001b[0;32m--> 331\u001b[0m \u001b[38;5;28;43mself\u001b[39;49m\u001b[38;5;241;43m.\u001b[39;49m\u001b[43mcheck_token_expiration\u001b[49m\u001b[43m(\u001b[49m\u001b[43m)\u001b[49m\n\u001b[1;32m    332\u001b[0m \u001b[38;5;28;01mreturn\u001b[39;00m \u001b[38;5;28mself\u001b[39m\u001b[38;5;241m.\u001b[39mclient\u001b[38;5;241m.\u001b[39mget_selling_power(long_ticker)\n",
      "File \u001b[0;32m~/Desktop/cocos/.venv/lib/python3.10/site-packages/pycocos/main.py:206\u001b[0m, in \u001b[0;36mCocos.check_token_expiration\u001b[0;34m(self)\u001b[0m\n\u001b[1;32m    205\u001b[0m \u001b[38;5;28;01mif\u001b[39;00m \u001b[38;5;28mself\u001b[39m\u001b[38;5;241m.\u001b[39mconnected \u001b[38;5;129;01mand\u001b[39;00m time\u001b[38;5;241m.\u001b[39mtime() \u001b[38;5;241m>\u001b[39m \u001b[38;5;28mself\u001b[39m\u001b[38;5;241m.\u001b[39mtoken_expiration:\n\u001b[0;32m--> 206\u001b[0m     \u001b[38;5;28;43mself\u001b[39;49m\u001b[38;5;241;43m.\u001b[39;49m\u001b[43m_refresh_access_token\u001b[49m\u001b[43m(\u001b[49m\u001b[43m)\u001b[49m\n\u001b[1;32m    208\u001b[0m headers_update: \u001b[38;5;28mdict\u001b[39m[\u001b[38;5;28mstr\u001b[39m, \u001b[38;5;28mstr\u001b[39m] \u001b[38;5;241m=\u001b[39m {\n\u001b[1;32m    209\u001b[0m     \u001b[38;5;124m\"\u001b[39m\u001b[38;5;124mapikey\u001b[39m\u001b[38;5;124m\"\u001b[39m: \u001b[38;5;124m\"\u001b[39m\u001b[38;5;124m\"\u001b[39m,\n\u001b[1;32m    210\u001b[0m     \u001b[38;5;124m\"\u001b[39m\u001b[38;5;124mauthorization\u001b[39m\u001b[38;5;124m\"\u001b[39m: \u001b[38;5;124mf\u001b[39m\u001b[38;5;124m\"\u001b[39m\u001b[38;5;124mBearer \u001b[39m\u001b[38;5;132;01m{\u001b[39;00m\u001b[38;5;28mself\u001b[39m\u001b[38;5;241m.\u001b[39maccess_token\u001b[38;5;132;01m}\u001b[39;00m\u001b[38;5;124m\"\u001b[39m,\n\u001b[0;32m   (...)\u001b[0m\n\u001b[1;32m    214\u001b[0m     \u001b[38;5;124m\"\u001b[39m\u001b[38;5;124mContent-Type\u001b[39m\u001b[38;5;124m\"\u001b[39m: \u001b[38;5;124m\"\u001b[39m\u001b[38;5;124mapplication/json\u001b[39m\u001b[38;5;124m\"\u001b[39m\n\u001b[1;32m    215\u001b[0m }\n",
      "File \u001b[0;32m~/Desktop/cocos/.venv/lib/python3.10/site-packages/pycocos/main.py:189\u001b[0m, in \u001b[0;36mCocos._refresh_access_token\u001b[0;34m(self)\u001b[0m\n\u001b[1;32m    186\u001b[0m payload \u001b[38;5;241m=\u001b[39m {\n\u001b[1;32m    187\u001b[0m     \u001b[38;5;124m\"\u001b[39m\u001b[38;5;124mrefresh_token\u001b[39m\u001b[38;5;124m\"\u001b[39m: \u001b[38;5;28mself\u001b[39m\u001b[38;5;241m.\u001b[39mrefresh_token\n\u001b[1;32m    188\u001b[0m }\n\u001b[0;32m--> 189\u001b[0m response \u001b[38;5;241m=\u001b[39m \u001b[38;5;28;43mself\u001b[39;49m\u001b[38;5;241;43m.\u001b[39;49m\u001b[43mclient\u001b[49m\u001b[38;5;241;43m.\u001b[39;49m\u001b[43mget_token\u001b[49m\u001b[43m(\u001b[49m\u001b[43mparams\u001b[49m\u001b[38;5;241;43m=\u001b[39;49m\u001b[43mparams\u001b[49m\u001b[43m,\u001b[49m\u001b[43m \u001b[49m\u001b[43mdata\u001b[49m\u001b[38;5;241;43m=\u001b[39;49m\u001b[43mjson\u001b[49m\u001b[38;5;241;43m.\u001b[39;49m\u001b[43mdumps\u001b[49m\u001b[43m(\u001b[49m\u001b[43mpayload\u001b[49m\u001b[43m)\u001b[49m\u001b[43m)\u001b[49m\n\u001b[1;32m    190\u001b[0m \u001b[38;5;28;01mif\u001b[39;00m response:\n",
      "File \u001b[0;32m~/Desktop/cocos/.venv/lib/python3.10/site-packages/pycocos/components/client.py:32\u001b[0m, in \u001b[0;36mRestClient.get_token\u001b[0;34m(self, params, data)\u001b[0m\n\u001b[1;32m     23\u001b[0m \u001b[38;5;250m\u001b[39m\u001b[38;5;124;03m\"\"\"Makes a request to the api to get an access token\u001b[39;00m\n\u001b[1;32m     24\u001b[0m \n\u001b[1;32m     25\u001b[0m \u001b[38;5;124;03mArgs:\u001b[39;00m\n\u001b[0;32m   (...)\u001b[0m\n\u001b[1;32m     30\u001b[0m \u001b[38;5;124;03m    dict: Dict with token and user data\u001b[39;00m\n\u001b[1;32m     31\u001b[0m \u001b[38;5;124;03m\"\"\"\u001b[39;00m\n\u001b[0;32m---> 32\u001b[0m \u001b[38;5;28;01mreturn\u001b[39;00m \u001b[38;5;28;43mself\u001b[39;49m\u001b[38;5;241;43m.\u001b[39;49m\u001b[43mapi_request\u001b[49m\u001b[43m(\u001b[49m\n\u001b[1;32m     33\u001b[0m \u001b[43m    \u001b[49m\u001b[43murls\u001b[49m\u001b[38;5;241;43m.\u001b[39;49m\u001b[43mendpoints\u001b[49m\u001b[43m[\u001b[49m\u001b[38;5;124;43m\"\u001b[39;49m\u001b[38;5;124;43mtoken\u001b[39;49m\u001b[38;5;124;43m\"\u001b[39;49m\u001b[43m]\u001b[49m\u001b[43m,\u001b[49m\u001b[43m \u001b[49m\u001b[43mmethod\u001b[49m\u001b[38;5;241;43m=\u001b[39;49m\u001b[38;5;124;43m\"\u001b[39;49m\u001b[38;5;124;43mpost\u001b[39;49m\u001b[38;5;124;43m\"\u001b[39;49m\u001b[43m,\u001b[49m\u001b[43m \u001b[49m\u001b[43mparams\u001b[49m\u001b[38;5;241;43m=\u001b[39;49m\u001b[43mparams\u001b[49m\u001b[43m,\u001b[49m\u001b[43m \u001b[49m\u001b[43mdata\u001b[49m\u001b[38;5;241;43m=\u001b[39;49m\u001b[43mdata\u001b[49m\n\u001b[1;32m     34\u001b[0m \u001b[43m\u001b[49m\u001b[43m)\u001b[49m\n",
      "File \u001b[0;32m~/Desktop/cocos/.venv/lib/python3.10/site-packages/pycocos/components/client.py:473\u001b[0m, in \u001b[0;36mRestClient.api_request\u001b[0;34m(self, path, retry, method, params, json_data, data)\u001b[0m\n\u001b[1;32m    472\u001b[0m \u001b[38;5;28;01mif\u001b[39;00m \u001b[38;5;129;01mnot\u001b[39;00m response:\n\u001b[0;32m--> 473\u001b[0m     \u001b[38;5;28;01mraise\u001b[39;00m ApiException(\u001b[38;5;124mf\u001b[39m\u001b[38;5;124m\"\u001b[39m\u001b[38;5;124mBad HTTP API Response. Error code: \u001b[39m\u001b[38;5;132;01m{\u001b[39;00mresponse\u001b[38;5;241m.\u001b[39mstatus_code\u001b[38;5;132;01m}\u001b[39;00m\u001b[38;5;124m. Server response \u001b[39m\u001b[38;5;132;01m{\u001b[39;00mresponse\u001b[38;5;241m.\u001b[39mtext\u001b[38;5;132;01m}\u001b[39;00m\u001b[38;5;124m\"\u001b[39m)\n\u001b[1;32m    475\u001b[0m json_response \u001b[38;5;241m=\u001b[39m simplejson\u001b[38;5;241m.\u001b[39mloads(response\u001b[38;5;241m.\u001b[39mtext)\n",
      "\u001b[0;31mApiException\u001b[0m: Bad HTTP API Response. Error code: 400. Server response {\"error\":\"invalid_grant\",\"error_description\":\"Invalid Refresh Token: Session Expired\"}",
      "\nDuring handling of the above exception, another exception occurred:\n",
      "\u001b[0;31mApiException\u001b[0m                              Traceback (most recent call last)",
      "Cell \u001b[0;32mIn[1], line 17\u001b[0m\n\u001b[1;32m     15\u001b[0m \u001b[38;5;28;01mfor\u001b[39;00m ticker \u001b[38;5;129;01min\u001b[39;00m tickers_in_portfolio: \n\u001b[1;32m     16\u001b[0m     \u001b[38;5;28;01mtry\u001b[39;00m:stocks_available\u001b[38;5;241m=\u001b[39mapp\u001b[38;5;241m.\u001b[39mstocks_available(mail\u001b[38;5;241m=\u001b[39mmail,ticker\u001b[38;5;241m=\u001b[39mticker,term\u001b[38;5;241m=\u001b[39m\u001b[38;5;124m\"\u001b[39m\u001b[38;5;124mCI\u001b[39m\u001b[38;5;124m\"\u001b[39m,currency\u001b[38;5;241m=\u001b[39m\u001b[38;5;124m\"\u001b[39m\u001b[38;5;124mpesos\u001b[39m\u001b[38;5;124m\"\u001b[39m)\n\u001b[0;32m---> 17\u001b[0m     \u001b[38;5;28;01mexcept\u001b[39;00m:stocks_available\u001b[38;5;241m=\u001b[39mapp\u001b[38;5;241m.\u001b[39mstocks_available(mail\u001b[38;5;241m=\u001b[39mmail,ticker\u001b[38;5;241m=\u001b[39mticker,term\u001b[38;5;241m=\u001b[39m\u001b[38;5;124m\"\u001b[39m\u001b[38;5;124mCI\u001b[39m\u001b[38;5;124m\"\u001b[39m,currency\u001b[38;5;241m=\u001b[39m\u001b[38;5;124m\"\u001b[39m\u001b[38;5;124mpesos\u001b[39m\u001b[38;5;124m\"\u001b[39m)\n\u001b[1;32m     18\u001b[0m     \u001b[38;5;28;01mif\u001b[39;00m stocks_available[\u001b[38;5;124m\"\u001b[39m\u001b[38;5;124mCI\u001b[39m\u001b[38;5;124m\"\u001b[39m]\u001b[38;5;241m>\u001b[39m\u001b[38;5;241m0\u001b[39m:\n\u001b[1;32m     19\u001b[0m         amount_in_portfolio\u001b[38;5;241m=\u001b[39mstocks_available[\u001b[38;5;124m\"\u001b[39m\u001b[38;5;124mCI\u001b[39m\u001b[38;5;124m\"\u001b[39m]\n",
      "File \u001b[0;32m~/Desktop/cocos/trading_helper.py:406\u001b[0m, in \u001b[0;36mTradingHelper.stocks_available\u001b[0;34m(self, mail, ticker, term, currency)\u001b[0m\n\u001b[1;32m    402\u001b[0m         app\u001b[38;5;241m=\u001b[39m \u001b[38;5;28mself\u001b[39m\u001b[38;5;241m.\u001b[39mget_cocos_app_instance(mail\u001b[38;5;241m=\u001b[39mmail)\n\u001b[1;32m    403\u001b[0m         long_ticker \u001b[38;5;241m=\u001b[39m app\u001b[38;5;241m.\u001b[39mlong_ticker(ticker\u001b[38;5;241m=\u001b[39mticker, \n\u001b[1;32m    404\u001b[0m                                 settlement\u001b[38;5;241m=\u001b[39msettlement, \n\u001b[1;32m    405\u001b[0m                                 currency\u001b[38;5;241m=\u001b[39mcurrency)\n\u001b[0;32m--> 406\u001b[0m stocks_available\u001b[38;5;241m=\u001b[39m\u001b[43mapp\u001b[49m\u001b[38;5;241;43m.\u001b[39;49m\u001b[43mstocks_available\u001b[49m\u001b[43m(\u001b[49m\u001b[43mlong_ticker\u001b[49m\u001b[43m)\u001b[49m\n\u001b[1;32m    407\u001b[0m \u001b[38;5;66;03m#print(stocks_available)\u001b[39;00m\n\u001b[1;32m    408\u001b[0m \u001b[38;5;28;01mreturn\u001b[39;00m stocks_available\n",
      "File \u001b[0;32m~/Desktop/cocos/.venv/lib/python3.10/site-packages/pycocos/main.py:331\u001b[0m, in \u001b[0;36mCocos.stocks_available\u001b[0;34m(self, long_ticker)\u001b[0m\n\u001b[1;32m    328\u001b[0m required_fields: \u001b[38;5;28mlist\u001b[39m[\u001b[38;5;28mtuple\u001b[39m[\u001b[38;5;28mstr\u001b[39m, Any, Any]]  \u001b[38;5;241m=\u001b[39m [(\u001b[38;5;124m\"\u001b[39m\u001b[38;5;124mlong_ticker\u001b[39m\u001b[38;5;124m\"\u001b[39m, long_ticker, \u001b[38;5;28mstr\u001b[39m)]\n\u001b[1;32m    329\u001b[0m \u001b[38;5;28mself\u001b[39m\u001b[38;5;241m.\u001b[39m_check_fields(required_fields)\n\u001b[0;32m--> 331\u001b[0m \u001b[38;5;28;43mself\u001b[39;49m\u001b[38;5;241;43m.\u001b[39;49m\u001b[43mcheck_token_expiration\u001b[49m\u001b[43m(\u001b[49m\u001b[43m)\u001b[49m\n\u001b[1;32m    332\u001b[0m \u001b[38;5;28;01mreturn\u001b[39;00m \u001b[38;5;28mself\u001b[39m\u001b[38;5;241m.\u001b[39mclient\u001b[38;5;241m.\u001b[39mget_selling_power(long_ticker)\n",
      "File \u001b[0;32m~/Desktop/cocos/.venv/lib/python3.10/site-packages/pycocos/main.py:206\u001b[0m, in \u001b[0;36mCocos.check_token_expiration\u001b[0;34m(self)\u001b[0m\n\u001b[1;32m    203\u001b[0m \u001b[38;5;28mself\u001b[39m\u001b[38;5;241m.\u001b[39mclient\u001b[38;5;241m.\u001b[39mupdate_session_headers(headers_update)\n\u001b[1;32m    205\u001b[0m \u001b[38;5;28;01mif\u001b[39;00m \u001b[38;5;28mself\u001b[39m\u001b[38;5;241m.\u001b[39mconnected \u001b[38;5;129;01mand\u001b[39;00m time\u001b[38;5;241m.\u001b[39mtime() \u001b[38;5;241m>\u001b[39m \u001b[38;5;28mself\u001b[39m\u001b[38;5;241m.\u001b[39mtoken_expiration:\n\u001b[0;32m--> 206\u001b[0m     \u001b[38;5;28;43mself\u001b[39;49m\u001b[38;5;241;43m.\u001b[39;49m\u001b[43m_refresh_access_token\u001b[49m\u001b[43m(\u001b[49m\u001b[43m)\u001b[49m\n\u001b[1;32m    208\u001b[0m headers_update: \u001b[38;5;28mdict\u001b[39m[\u001b[38;5;28mstr\u001b[39m, \u001b[38;5;28mstr\u001b[39m] \u001b[38;5;241m=\u001b[39m {\n\u001b[1;32m    209\u001b[0m     \u001b[38;5;124m\"\u001b[39m\u001b[38;5;124mapikey\u001b[39m\u001b[38;5;124m\"\u001b[39m: \u001b[38;5;124m\"\u001b[39m\u001b[38;5;124m\"\u001b[39m,\n\u001b[1;32m    210\u001b[0m     \u001b[38;5;124m\"\u001b[39m\u001b[38;5;124mauthorization\u001b[39m\u001b[38;5;124m\"\u001b[39m: \u001b[38;5;124mf\u001b[39m\u001b[38;5;124m\"\u001b[39m\u001b[38;5;124mBearer \u001b[39m\u001b[38;5;132;01m{\u001b[39;00m\u001b[38;5;28mself\u001b[39m\u001b[38;5;241m.\u001b[39maccess_token\u001b[38;5;132;01m}\u001b[39;00m\u001b[38;5;124m\"\u001b[39m,\n\u001b[0;32m   (...)\u001b[0m\n\u001b[1;32m    214\u001b[0m     \u001b[38;5;124m\"\u001b[39m\u001b[38;5;124mContent-Type\u001b[39m\u001b[38;5;124m\"\u001b[39m: \u001b[38;5;124m\"\u001b[39m\u001b[38;5;124mapplication/json\u001b[39m\u001b[38;5;124m\"\u001b[39m\n\u001b[1;32m    215\u001b[0m }\n\u001b[1;32m    216\u001b[0m \u001b[38;5;28mself\u001b[39m\u001b[38;5;241m.\u001b[39mclient\u001b[38;5;241m.\u001b[39mupdate_session_headers(headers_update)\n",
      "File \u001b[0;32m~/Desktop/cocos/.venv/lib/python3.10/site-packages/pycocos/main.py:189\u001b[0m, in \u001b[0;36mCocos._refresh_access_token\u001b[0;34m(self)\u001b[0m\n\u001b[1;32m    184\u001b[0m params \u001b[38;5;241m=\u001b[39m \u001b[38;5;124m\"\u001b[39m\u001b[38;5;124mgrant_type=refresh_token\u001b[39m\u001b[38;5;124m\"\u001b[39m\n\u001b[1;32m    186\u001b[0m payload \u001b[38;5;241m=\u001b[39m {\n\u001b[1;32m    187\u001b[0m     \u001b[38;5;124m\"\u001b[39m\u001b[38;5;124mrefresh_token\u001b[39m\u001b[38;5;124m\"\u001b[39m: \u001b[38;5;28mself\u001b[39m\u001b[38;5;241m.\u001b[39mrefresh_token\n\u001b[1;32m    188\u001b[0m }\n\u001b[0;32m--> 189\u001b[0m response \u001b[38;5;241m=\u001b[39m \u001b[38;5;28;43mself\u001b[39;49m\u001b[38;5;241;43m.\u001b[39;49m\u001b[43mclient\u001b[49m\u001b[38;5;241;43m.\u001b[39;49m\u001b[43mget_token\u001b[49m\u001b[43m(\u001b[49m\u001b[43mparams\u001b[49m\u001b[38;5;241;43m=\u001b[39;49m\u001b[43mparams\u001b[49m\u001b[43m,\u001b[49m\u001b[43m \u001b[49m\u001b[43mdata\u001b[49m\u001b[38;5;241;43m=\u001b[39;49m\u001b[43mjson\u001b[49m\u001b[38;5;241;43m.\u001b[39;49m\u001b[43mdumps\u001b[49m\u001b[43m(\u001b[49m\u001b[43mpayload\u001b[49m\u001b[43m)\u001b[49m\u001b[43m)\u001b[49m\n\u001b[1;32m    190\u001b[0m \u001b[38;5;28;01mif\u001b[39;00m response:\n\u001b[1;32m    191\u001b[0m     \u001b[38;5;28mself\u001b[39m\u001b[38;5;241m.\u001b[39maccess_token \u001b[38;5;241m=\u001b[39m response[\u001b[38;5;124m\"\u001b[39m\u001b[38;5;124maccess_token\u001b[39m\u001b[38;5;124m\"\u001b[39m]\n",
      "File \u001b[0;32m~/Desktop/cocos/.venv/lib/python3.10/site-packages/pycocos/components/client.py:32\u001b[0m, in \u001b[0;36mRestClient.get_token\u001b[0;34m(self, params, data)\u001b[0m\n\u001b[1;32m     22\u001b[0m \u001b[38;5;28;01mdef\u001b[39;00m \u001b[38;5;21mget_token\u001b[39m(\u001b[38;5;28mself\u001b[39m, params: \u001b[38;5;28mstr\u001b[39m, data: \u001b[38;5;28mstr\u001b[39m) \u001b[38;5;241m-\u001b[39m\u001b[38;5;241m>\u001b[39m Dict[\u001b[38;5;28mstr\u001b[39m, Any]:\n\u001b[1;32m     23\u001b[0m \u001b[38;5;250m    \u001b[39m\u001b[38;5;124;03m\"\"\"Makes a request to the api to get an access token\u001b[39;00m\n\u001b[1;32m     24\u001b[0m \n\u001b[1;32m     25\u001b[0m \u001b[38;5;124;03m    Args:\u001b[39;00m\n\u001b[0;32m   (...)\u001b[0m\n\u001b[1;32m     30\u001b[0m \u001b[38;5;124;03m        dict: Dict with token and user data\u001b[39;00m\n\u001b[1;32m     31\u001b[0m \u001b[38;5;124;03m    \"\"\"\u001b[39;00m\n\u001b[0;32m---> 32\u001b[0m     \u001b[38;5;28;01mreturn\u001b[39;00m \u001b[38;5;28;43mself\u001b[39;49m\u001b[38;5;241;43m.\u001b[39;49m\u001b[43mapi_request\u001b[49m\u001b[43m(\u001b[49m\n\u001b[1;32m     33\u001b[0m \u001b[43m        \u001b[49m\u001b[43murls\u001b[49m\u001b[38;5;241;43m.\u001b[39;49m\u001b[43mendpoints\u001b[49m\u001b[43m[\u001b[49m\u001b[38;5;124;43m\"\u001b[39;49m\u001b[38;5;124;43mtoken\u001b[39;49m\u001b[38;5;124;43m\"\u001b[39;49m\u001b[43m]\u001b[49m\u001b[43m,\u001b[49m\u001b[43m \u001b[49m\u001b[43mmethod\u001b[49m\u001b[38;5;241;43m=\u001b[39;49m\u001b[38;5;124;43m\"\u001b[39;49m\u001b[38;5;124;43mpost\u001b[39;49m\u001b[38;5;124;43m\"\u001b[39;49m\u001b[43m,\u001b[49m\u001b[43m \u001b[49m\u001b[43mparams\u001b[49m\u001b[38;5;241;43m=\u001b[39;49m\u001b[43mparams\u001b[49m\u001b[43m,\u001b[49m\u001b[43m \u001b[49m\u001b[43mdata\u001b[49m\u001b[38;5;241;43m=\u001b[39;49m\u001b[43mdata\u001b[49m\n\u001b[1;32m     34\u001b[0m \u001b[43m    \u001b[49m\u001b[43m)\u001b[49m\n",
      "File \u001b[0;32m~/Desktop/cocos/.venv/lib/python3.10/site-packages/pycocos/components/client.py:473\u001b[0m, in \u001b[0;36mRestClient.api_request\u001b[0;34m(self, path, retry, method, params, json_data, data)\u001b[0m\n\u001b[1;32m    470\u001b[0m     response \u001b[38;5;241m=\u001b[39m \u001b[38;5;28mself\u001b[39m\u001b[38;5;241m.\u001b[39msession\u001b[38;5;241m.\u001b[39mdelete(\u001b[38;5;28mself\u001b[39m\u001b[38;5;241m.\u001b[39m_api_url(path), json\u001b[38;5;241m=\u001b[39mjson_data)\n\u001b[1;32m    472\u001b[0m \u001b[38;5;28;01mif\u001b[39;00m \u001b[38;5;129;01mnot\u001b[39;00m response:\n\u001b[0;32m--> 473\u001b[0m     \u001b[38;5;28;01mraise\u001b[39;00m ApiException(\u001b[38;5;124mf\u001b[39m\u001b[38;5;124m\"\u001b[39m\u001b[38;5;124mBad HTTP API Response. Error code: \u001b[39m\u001b[38;5;132;01m{\u001b[39;00mresponse\u001b[38;5;241m.\u001b[39mstatus_code\u001b[38;5;132;01m}\u001b[39;00m\u001b[38;5;124m. Server response \u001b[39m\u001b[38;5;132;01m{\u001b[39;00mresponse\u001b[38;5;241m.\u001b[39mtext\u001b[38;5;132;01m}\u001b[39;00m\u001b[38;5;124m\"\u001b[39m)\n\u001b[1;32m    475\u001b[0m json_response \u001b[38;5;241m=\u001b[39m simplejson\u001b[38;5;241m.\u001b[39mloads(response\u001b[38;5;241m.\u001b[39mtext)\n\u001b[1;32m    477\u001b[0m \u001b[38;5;28;01mif\u001b[39;00m response\u001b[38;5;241m.\u001b[39mstatus_code \u001b[38;5;241m==\u001b[39m \u001b[38;5;241m401\u001b[39m:\n",
      "\u001b[0;31mApiException\u001b[0m: Bad HTTP API Response. Error code: 400. Server response {\"error\":\"invalid_grant\",\"error_description\":\"Invalid Refresh Token: Session Expired\"}"
     ]
    }
   ],
   "source": [
    "from trading_helper import TradingHelper\n",
    "import time\n",
    "import math\n",
    "app=TradingHelper()\n",
    "mail=\"cirigliano.santiago@gmail.com\"\n",
    "portfolio=app.portfolio(mail=mail)\n",
    "tickers_in_portfolio=[]\n",
    "for i in portfolio[\"tickers\"]:\n",
    "    ticker=i[\"ticker\"]\n",
    "    if ticker not in ['AR$', 'US$ MEP','AL30','GD30','TVPP']:\n",
    "        tickers_in_portfolio.append(ticker)\n",
    "\n",
    "tickers_in_portfolio=tuple(tickers_in_portfolio)\n",
    "print(tickers_in_portfolio)\n",
    "while True:\n",
    "    for ticker in tickers_in_portfolio: \n",
    "        try:stocks_available=app.stocks_available(mail=mail,ticker=ticker,term=\"CI\",currency=\"pesos\")\n",
    "        except:stocks_available=app.stocks_available(mail=mail,ticker=ticker,term=\"CI\",currency=\"pesos\")\n",
    "        if stocks_available[\"CI\"]>0:\n",
    "            amount_in_portfolio=stocks_available[\"CI\"]\n",
    "            try:\n",
    "                response = app.get_snapshot(mail=mail, ticker=ticker)\n",
    "            except Exception as e:\n",
    "                # Reintentar mientras el error sea un 500\n",
    "                while \"Error code: 500\" in str(e):\n",
    "                    try:\n",
    "                        response = app.get_snapshot(mail=mail, ticker=ticker)\n",
    "                        break  # Salir del bucle si la solicitud es exitosa\n",
    "                    except Exception as e:\n",
    "                        if \"Error code: 500\" not in str(e):\n",
    "                            print(f\"Error al obtener snapshot: {e}\")  # Registro del error diferente\n",
    "                            break  # Salir del bucle si es otro error\n",
    "                        continue  # Continúa reintentando si es un error 500\n",
    "            ci = [item for item in response if item['currency'] == 'ARS' and item['term'] == 'CI'][0]\n",
    "            hs =  [item for item in response if item['currency'] == 'ARS' and item['term'] == '24hs'][0]\n",
    "            #print(f\"CI {ci}\")\n",
    "            #print(f\"hs {hs}\")\n",
    "            precio_venta=ci['bids'][0]['price']\n",
    "            vol_venta=ci['bids'][0]['size']\n",
    "            precio_compra=hs['asks'][0]['price']\n",
    "            vol_compra=hs['asks'][0]['size']\n",
    "            vol=min(vol_compra,vol_venta,amount_in_portfolio)\n",
    "            if precio_venta == 0 or precio_compra == 0: break\n",
    "            ratio=precio_venta/precio_compra\n",
    "            #print(f\"RATIO {ratio} con {ticker}. Volumen {vol} nominales. venta CI a ${precio_venta} y compra 24hs a ${precio_compra}\")\n",
    "            if ratio > 1.005 and ratio < 1.2:\n",
    "                print(f\"RATIO {ratio} con {ticker}. Volumen {vol} nominales. venta CI a ${precio_venta} y compra 24hs a ${precio_compra}\")\n",
    "                sell_order=app.place_sell_order(mail=mail,\n",
    "                                                ticker=ticker,\n",
    "                                                quantity=vol,\n",
    "                                                price=precio_venta,\n",
    "                                                term=\"CI\",\n",
    "                                                currency=\"pesos\")\n",
    "                print(f\"Orden de venta {ticker} {sell_order}\")\n",
    "                order_status=app.check_order_status(mail=mail,\n",
    "                                                    order_number=sell_order[\"Orden\"])\n",
    "                print(order_status)\n",
    "                start_time = time.time()\n",
    "                while order_status == \"MARKET\":\n",
    "                    elapsed_time = time.time() - start_time\n",
    "                    if elapsed_time > 2:\n",
    "                        cancel_order=app.cancel_order(mail=mail,order_number=sell_order[\"Orden\"])\n",
    "                        print(f\"Orden cancelada por Timeout: {cancel_order}\")\n",
    "                        break\n",
    "                    order_status=app.check_order_status(mail=mail,\n",
    "                                                    order_number=sell_order[\"Orden\"])\n",
    "                    print(f\"Order Status de venta {order_status}\")\n",
    "                    \n",
    "                if order_status == \"EXECUTED\":\n",
    "                    buy_order=app.place_buy_order(mail=mail,\n",
    "                                                ticker=ticker,\n",
    "                                                quantity=vol,\n",
    "                                                price=precio_compra,\n",
    "                                                term=\"24\",\n",
    "                                                currency=\"pesos\")\n",
    "                    print(f\"Orden de compra {ticker} {buy_order}\")\n",
    "                    order_status=app.check_order_status(mail=mail,\n",
    "                                                        order_number=sell_order[\"Orden\"])\n",
    "                    while order_status == \"MARKET\":\n",
    "                        order_status=app.check_order_status(mail=mail,\n",
    "                                                    order_number=sell_order[\"Orden\"])\n",
    "                    print(f\"Order status de Compra {order_status}\")\n",
    "                    if buy_order[\"Success\"] == True: print(\"Negocio ATR\")"
   ]
  },
  {
   "cell_type": "code",
   "execution_count": 30,
   "metadata": {},
   "outputs": [
    {
     "name": "stdout",
     "output_type": "stream",
     "text": [
      "100\n",
      "104\n"
     ]
    },
    {
     "data": {
      "text/plain": [
       "'\\nsi el limite esta en lo que vendo en CI o lo que tengo en cartera:\\npapeles a comprar=papeles a vender * (redondeo(precio venta/precio compra)-1)\\nsi el limite esta en lo que compro en 24hs\\npapeles a vender=papeles a comprar/(redondeo(precio venta/precio compra)-1)'"
      ]
     },
     "execution_count": 30,
     "metadata": {},
     "output_type": "execute_result"
    }
   ],
   "source": [
    "import math\n",
    "vol_venta = 100\n",
    "vol_compra = 120\n",
    "amount_in_portfolio = 80\n",
    "precio_venta=155\n",
    "precio_compra=149\n",
    "minimum_vol = min(vol_compra,vol_venta,amount_in_portfolio)\n",
    "if minimum_vol== vol_venta or minimum_vol==amount_in_portfolio:\n",
    "    vol_compra = math.floor(vol_venta * (precio_venta/precio_compra))\n",
    "elif minimum_vol==vol_compra:\n",
    "    vol_venta = math.floor(vol_compra /(precio_venta/precio_compra))\n",
    "print(vol_venta)\n",
    "print(vol_compra)\n",
    "#Esta mal el resultado cuando el minimo es lo que tengo en portfolio!!\n",
    "\n",
    "\"\"\"\n",
    "si el limite esta en lo que vendo en CI o lo que tengo en cartera:\n",
    "papeles a comprar=papeles a vender * (redondeo(precio venta/precio compra)-1)\n",
    "si el limite esta en lo que compro en 24hs\n",
    "papeles a vender=papeles a comprar/(redondeo(precio venta/precio compra)-1)\"\"\""
   ]
  },
  {
   "cell_type": "code",
   "execution_count": null,
   "metadata": {},
   "outputs": [
    {
     "name": "stdout",
     "output_type": "stream",
     "text": [
      "('BPOD7', 'AL30', 'CTIO', 'PAMP', 'TZX25', 'IRSA', 'T2X5', 'CRES', 'S31E5', 'TX26', 'S28F5', 'T5X4', 'S13D4', 'TZV25')\n"
     ]
    }
   ],
   "source": [
    "from trading_helper import TradingHelper\n",
    "app=TradingHelper()\n",
    "portfolio=app.portfolio(mail=\"cirigliano.santiago@gmail.com\")\n",
    "tickers_in_portfolio=[]\n",
    "for i in portfolio[\"tickers\"]:\n",
    "    ticker=i[\"ticker\"]\n",
    "    tickers_in_portfolio.append(ticker)\n",
    "tickers_in_portfolio=tuple(tickers_in_portfolio[2:])\n",
    "print(tickers_in_portfolio)"
   ]
  },
  {
   "cell_type": "code",
   "execution_count": 8,
   "metadata": {},
   "outputs": [
    {
     "data": {
      "text/html": [
       "<div>\n",
       "<style scoped>\n",
       "    .dataframe tbody tr th:only-of-type {\n",
       "        vertical-align: middle;\n",
       "    }\n",
       "\n",
       "    .dataframe tbody tr th {\n",
       "        vertical-align: top;\n",
       "    }\n",
       "\n",
       "    .dataframe thead th {\n",
       "        text-align: right;\n",
       "    }\n",
       "</style>\n",
       "<table border=\"1\" class=\"dataframe\">\n",
       "  <thead>\n",
       "    <tr style=\"text-align: right;\">\n",
       "      <th></th>\n",
       "      <th>short_ticker</th>\n",
       "      <th>tipo</th>\n",
       "      <th>vencimiento</th>\n",
       "    </tr>\n",
       "  </thead>\n",
       "  <tbody>\n",
       "    <tr>\n",
       "      <th>39</th>\n",
       "      <td>PAMP</td>\n",
       "      <td>accion</td>\n",
       "      <td>NaN</td>\n",
       "    </tr>\n",
       "    <tr>\n",
       "      <th>16</th>\n",
       "      <td>TZXD7</td>\n",
       "      <td>cer</td>\n",
       "      <td>15/12/2027</td>\n",
       "    </tr>\n",
       "    <tr>\n",
       "      <th>9</th>\n",
       "      <td>TZX27</td>\n",
       "      <td>cer</td>\n",
       "      <td>30/06/2027</td>\n",
       "    </tr>\n",
       "    <tr>\n",
       "      <th>6</th>\n",
       "      <td>TX28</td>\n",
       "      <td>cer</td>\n",
       "      <td>9/11/2028</td>\n",
       "    </tr>\n",
       "    <tr>\n",
       "      <th>38</th>\n",
       "      <td>TXAR</td>\n",
       "      <td>accion</td>\n",
       "      <td>NaN</td>\n",
       "    </tr>\n",
       "  </tbody>\n",
       "</table>\n",
       "</div>"
      ],
      "text/plain": [
       "   short_ticker    tipo vencimiento\n",
       "39         PAMP  accion         NaN\n",
       "16        TZXD7     cer  15/12/2027\n",
       "9         TZX27     cer  30/06/2027\n",
       "6          TX28     cer   9/11/2028\n",
       "38         TXAR  accion         NaN"
      ]
     },
     "execution_count": 8,
     "metadata": {},
     "output_type": "execute_result"
    }
   ],
   "source": [
    "import pandas as pd\n",
    "df=pd.read_csv(\"tabla_tickers.csv\")\n",
    "df.sample(5)"
   ]
  }
 ],
 "metadata": {
  "kernelspec": {
   "display_name": ".venv",
   "language": "python",
   "name": "python3"
  },
  "language_info": {
   "codemirror_mode": {
    "name": "ipython",
    "version": 3
   },
   "file_extension": ".py",
   "mimetype": "text/x-python",
   "name": "python",
   "nbconvert_exporter": "python",
   "pygments_lexer": "ipython3",
   "version": "3.10.12"
  }
 },
 "nbformat": 4,
 "nbformat_minor": 2
}
